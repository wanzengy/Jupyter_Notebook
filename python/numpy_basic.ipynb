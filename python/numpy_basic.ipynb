{
 "cells": [
  {
   "cell_type": "markdown",
   "metadata": {},
   "source": [
    "### Numpy操作学习"
   ]
  },
  {
   "cell_type": "code",
   "execution_count": 3,
   "metadata": {},
   "outputs": [],
   "source": [
    "import numpy as np"
   ]
  },
  {
   "cell_type": "markdown",
   "metadata": {},
   "source": [
    "### 列表转化为矩阵"
   ]
  },
  {
   "cell_type": "code",
   "execution_count": 24,
   "metadata": {},
   "outputs": [
    {
     "name": "stdout",
     "output_type": "stream",
     "text": [
      "list: [[1, 2, 3], [2, 3, 4]] \n",
      " array: [[1 2 3]\n",
      " [2 3 4]]\n"
     ]
    }
   ],
   "source": [
    "a = [[1,2,3],[2,3,4]]\n",
    "array = np.array(a)\n",
    "print('list:',a,'\\n array:', array)"
   ]
  },
  {
   "cell_type": "markdown",
   "metadata": {},
   "source": [
    "### 查看numpy的属性"
   ]
  },
  {
   "cell_type": "code",
   "execution_count": 25,
   "metadata": {},
   "outputs": [
    {
     "name": "stdout",
     "output_type": "stream",
     "text": [
      "number of dim: 2\n",
      "shape: (2, 3)\n",
      "size: 6\n"
     ]
    }
   ],
   "source": [
    "print('number of dim:',array.ndim) #维度\n",
    "print('shape:',array.shape)#各维度数量\n",
    "print('size:',array.size)#元素总个数"
   ]
  },
  {
   "cell_type": "markdown",
   "metadata": {},
   "source": [
    "### 指定数据"
   ]
  },
  {
   "cell_type": "code",
   "execution_count": null,
   "metadata": {
    "scrolled": false
   },
   "outputs": [],
   "source": [
    "a = np.array([2,23,4],dtype=np.int)#类似的可指定为int64、int32、float64、float32\n",
    "print(a.dtype)"
   ]
  },
  {
   "cell_type": "markdown",
   "metadata": {},
   "source": [
    "### 创建特殊矩阵"
   ]
  },
  {
   "cell_type": "code",
   "execution_count": null,
   "metadata": {},
   "outputs": [],
   "source": [
    "#全零,三行四列\n",
    "a = np.zeros((3,4)) \n",
    "print(a,'\\n')\n",
    "\n",
    "#全一,三行四列，且指定为int32\n",
    "a = np.ones((4,4,5), dtype = np.int32)\n",
    "a = a[0:2,1:3].reshape(-1,3)\n",
    "print(a,'\\n')\n",
    "\n",
    "#空矩阵，值接近于零\n",
    "a = np.empty((3,4))\n",
    "print(a,'\\n')\n",
    "\n",
    "#用arange创建连续数组\n",
    "a = np.arange(1,10,2)\n",
    "print(a, '\\n')\n",
    "\n",
    "#用linspace创建线段性数据,0-20分割成10个线段\n",
    "a = np.linspace(0,20,10)\n",
    "print(a)\n",
    "\n"
   ]
  },
  {
   "cell_type": "markdown",
   "metadata": {},
   "source": [
    "### Numpy的基础操作_1"
   ]
  },
  {
   "cell_type": "code",
   "execution_count": null,
   "metadata": {},
   "outputs": [],
   "source": [
    "#用reshape改变数据形状\n",
    "a = np.arange(12).reshape((-1,3))#一般reshape((row,column)),若为((-1,column))则行数由系统判定\n",
    "print(a, '\\n')\n",
    "\n",
    "#基本加减法\n",
    "a = np.array([[1,2,3],[2,3,4]])\n",
    "b = np.linspace(1,20,6).reshape((2,3))\n",
    "\n",
    "c = a + b\n",
    "d = a - b\n",
    "e = a * b\n",
    "f = a ** 2\n",
    "print(a,'\\n\\n',b,'\\n')\n",
    "print('sum:',c,'\\n\\n','sub:',d,'\\n\\n','product',e,'\\n\\n','pow',f)\n"
   ]
  },
  {
   "cell_type": "markdown",
   "metadata": {},
   "source": [
    "### Numpy的基础操作_3"
   ]
  },
  {
   "cell_type": "code",
   "execution_count": null,
   "metadata": {},
   "outputs": [],
   "source": [
    "#调用三角函数\n",
    "a = np.linspace(1,10,6).reshape((2,3))\n",
    "b = 10 * np.sin(a)\n",
    "print(b)\n",
    "\n",
    "#逻辑判断\n",
    "c = b < 3\n",
    "print(c)\n",
    "\n",
    "#标准矩阵乘法\n",
    "c = np.dot(a,b.reshape((-1,2))) #或者a.dot(b),这里b矩阵要变形以满足矩阵乘法规则\n",
    "print(c)\n",
    "\n",
    "#创建随机数组成的矩阵\n",
    "a = np.random.random((2,4))\n",
    "print(a)\n",
    "print()\n",
    "\n",
    "#求和值、最小值、最大值,axis=1为行，0为列\n",
    "print('sum:', np.sum(a)) #numpy.sum asix=null时加和所有元素\n",
    "print('max:', np.max(a,axis=1))\n",
    "print('min:', np.min(a,axis=0)) "
   ]
  },
  {
   "cell_type": "markdown",
   "metadata": {},
   "source": [
    "### Numpy的基础操作_3"
   ]
  },
  {
   "cell_type": "code",
   "execution_count": null,
   "metadata": {},
   "outputs": [],
   "source": [
    "#指定精度\n",
    "a = np.random.random((3,2))\n",
    "a = np.around(a,decimals = 4)\n",
    "print(a,'\\n')\n",
    "\n",
    "#argmin()、argmax()求矩阵最小、大值索引\n",
    "print('index of min:{0}\\t, index of max:{1}'.format(a.argmin(), a.argmax()))\n",
    "\n",
    "#求均值mean()或average()\n",
    "print('mean:%.4f'%np.mean(a))\n",
    "\n",
    "#中位数\n",
    "print('median:%.4f'%np.median(a))\n",
    "\n",
    "#累加元素\n",
    "print('cumsum:\\n',np.cumsum(a))\n",
    "\n",
    "#累差元素\n",
    "print('diff:\\n',np.diff(a))\n",
    "print()\n",
    "\n",
    "#检查所有非零元素的位置，并重构成两个矩阵\n",
    "a = np.array([[0, 10, 5],[2, 0, 1]])\n",
    "print(a)\n",
    "print(np.nonzero(a))\n",
    "\n",
    "#排序\n",
    "print('sort:\\n',np.sort(a))\n",
    "\n",
    "#转置\n",
    "print('transpose:\\n',np.transpose(a)) #或者a.T\n",
    "\n",
    "#替换，将小于指定最小值或指定大于最大值的元素替换为最小值或最大值\n",
    "print('clip:\\n',np.clip(a,1,9))"
   ]
  },
  {
   "cell_type": "markdown",
   "metadata": {},
   "source": [
    "### Numpy 索引"
   ]
  },
  {
   "cell_type": "code",
   "execution_count": null,
   "metadata": {},
   "outputs": [],
   "source": [
    "#一维\n",
    "a = np.arange(1,11)\n",
    "print(a)\n",
    "print(a[1])\n",
    "\n",
    "\n",
    "a = a.reshape((2,5))\n",
    "print(a)\n",
    "print(a[1])\n",
    "\n",
    "#二维\n",
    "print(a[1][1]) #a[1][1] == a[1,1]\n",
    "print(a[1, 1:4])\n",
    "\n",
    "#逐行访问\n",
    "print('row:')\n",
    "for row in a:\n",
    "    print(row)\n",
    "    \n",
    "#逐列访问\n",
    "print('column:')\n",
    "for c in a.T:\n",
    "    print(c)\n",
    "    \n",
    "#访问所有元素\n",
    "#method.1\n",
    "print('all_1:',end='\\t')\n",
    "for i in a.flat:\n",
    "    print(i,end=' ')\n",
    "    \n",
    "print()\n",
    "\n",
    "#method_2\n",
    "print('all_2:',end='\\t')\n",
    "for r in a:\n",
    "    for i in r:\n",
    "        print(i,end=' ')"
   ]
  },
  {
   "cell_type": "markdown",
   "metadata": {},
   "source": [
    "### Numpy array合并与分割"
   ]
  },
  {
   "cell_type": "code",
   "execution_count": 43,
   "metadata": {},
   "outputs": [
    {
     "name": "stdout",
     "output_type": "stream",
     "text": [
      "数据\n",
      "[[1. 1. 1.]]\n",
      "-------------------------\n",
      "[[0. 0. 0.]\n",
      " [0. 0. 0.]]\n",
      "*************************\n",
      "纵向合并(同列数)\n",
      "[[1. 1. 1.]\n",
      " [0. 0. 0.]\n",
      " [0. 0. 0.]]\n",
      "\n",
      "横向合并（同行数）\n",
      "[[1. 1. 1. 0. 0. 0. 0. 0. 0.]]\n",
      "\n",
      "合并\n",
      "[[1. 1. 1.]\n",
      " [0. 0. 0.]\n",
      " [0. 0. 0.]\n",
      " [1. 1. 1.]] \n",
      "\n",
      "[[1. 1. 1. 0. 0. 0. 0. 0. 0. 1. 1. 1.]]\n",
      "[array([[1., 1., 1., 0.]]), array([[0., 0., 0., 0.]]), array([[0., 1., 1., 1.]])]\n",
      "[array([[1., 1., 1.],\n",
      "       [0., 0., 0.]]), array([[0., 0., 0.],\n",
      "       [1., 1., 1.]])]\n",
      "[array([[1., 1.],\n",
      "       [0., 0.],\n",
      "       [0., 0.],\n",
      "       [1., 1.]]), array([[1.],\n",
      "       [0.],\n",
      "       [0.],\n",
      "       [1.]])]\n"
     ]
    }
   ],
   "source": [
    "a = np.ones((1, 3))\n",
    "b = np.zeros((2, 3))\n",
    "print(\"数据\")\n",
    "print(a)\n",
    "print(\"-\"*25)\n",
    "print(b)\n",
    "print(\"*\"*25)\n",
    "\n",
    "\n",
    "print('纵向合并(同列数)')\n",
    "print(np.vstack((a, b)))\n",
    "\n",
    "print()\n",
    "\n",
    "print('横向合并（同行数）')\n",
    "c =b.reshape((1, 6))\n",
    "print(np.hstack((a, c)))\n",
    "print()\n",
    "\n",
    "#多矩阵合并\n",
    "print(\"合并\")\n",
    "d = np.concatenate((a, b, a), axis=0)\n",
    "print(d,'\\n')\n",
    "e = np.concatenate((a, c, a), axis=1)\n",
    "print(e)\n",
    "\n",
    "#纵向分割\n",
    "print(np.split(e, 3, axis =1))\n",
    "\n",
    "#横向分割\n",
    "print(np.split(d, 2, axis = 0))\n",
    "\n",
    "#不等量分割\n",
    "print(np.array_split(d, 2, axis=1))"
   ]
  },
  {
   "cell_type": "markdown",
   "metadata": {},
   "source": [
    "### Numpy copy"
   ]
  },
  {
   "cell_type": "code",
   "execution_count": null,
   "metadata": {},
   "outputs": [],
   "source": [
    "a = np.ones((3,3))\n",
    "\n",
    "c = a\n",
    "d = c\n",
    "\n",
    "a[1 ,2]=5\n",
    "\n",
    "print(d)\n",
    "print(c is a)#判断c与a是否相同\n",
    "\n",
    "d[2, 1]=3\n",
    "print(a)\n",
    "\n",
    "#若用copy()的方式赋值，则无关联性\n",
    "b = a.copy()\n",
    "a[1, 1] = 3\n",
    "print(b is a)\n"
   ]
  },
  {
   "cell_type": "markdown",
   "metadata": {},
   "source": [
    "### 插入"
   ]
  },
  {
   "cell_type": "code",
   "execution_count": 36,
   "metadata": {},
   "outputs": [
    {
     "name": "stdout",
     "output_type": "stream",
     "text": [
      "[[1. 1. 1. 2.]\n",
      " [1. 1. 1. 2.]\n",
      " [1. 1. 1. 2.]]\n"
     ]
    }
   ],
   "source": [
    "a = np.ones((3, 3))\n",
    "\n",
    "a = np.insert(a, np.shape(a)[1], 2, axis = 1)\n",
    "\n",
    "print(a)"
   ]
  }
 ],
 "metadata": {
  "kernelspec": {
   "display_name": "Python 3",
   "language": "python",
   "name": "python3"
  },
  "language_info": {
   "codemirror_mode": {
    "name": "ipython",
    "version": 3
   },
   "file_extension": ".py",
   "mimetype": "text/x-python",
   "name": "python",
   "nbconvert_exporter": "python",
   "pygments_lexer": "ipython3",
   "version": "3.7.3"
  }
 },
 "nbformat": 4,
 "nbformat_minor": 2
}
