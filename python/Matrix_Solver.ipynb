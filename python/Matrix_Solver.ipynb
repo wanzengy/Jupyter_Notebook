{
 "cells": [
  {
   "cell_type": "code",
   "execution_count": 1,
   "metadata": {},
   "outputs": [],
   "source": [
    "import numpy as np\n",
    "from PIL import Image"
   ]
  },
  {
   "cell_type": "code",
   "execution_count": 7,
   "metadata": {},
   "outputs": [
    {
     "name": "stdout",
     "output_type": "stream",
     "text": [
      "[[0. 0. 0. 0. 0.]\n",
      " [0. 0. 0. 0. 0.]\n",
      " [0. 0. 0. 0. 0.]]\n",
      "len: 3\n"
     ]
    }
   ],
   "source": [
    "b = np.zeros((3,5))\n",
    "print(b)\n",
    "print('len:',len(b))"
   ]
  },
  {
   "cell_type": "markdown",
   "metadata": {},
   "source": [
    "### 函数装饰器--带参数形式"
   ]
  },
  {
   "cell_type": "code",
   "execution_count": 23,
   "metadata": {},
   "outputs": [
    {
     "name": "stdout",
     "output_type": "stream",
     "text": [
      "my_test function 4\n",
      "***************\n",
      "my_test2 function 6  8\n",
      "***************\n"
     ]
    }
   ],
   "source": [
    "def foo(fn):\n",
    "    def bar(*args, **kwargs):\n",
    "        fn(*args, **kwargs)\n",
    "        print(\"*\" * 15)\n",
    "    return bar\n",
    "\n",
    "@foo\n",
    "def my_test(a):\n",
    "    print(\"my_test function\", a)\n",
    "\n",
    "@foo\n",
    "def my_test2(a, b):\n",
    "    print(\"my_test2 function\", a, \"\", b)\n",
    "\n",
    "my_test(4)\n",
    "my_test2(6, 8)"
   ]
  },
  {
   "cell_type": "markdown",
   "metadata": {},
   "source": [
    "### Gauss-Seidel 迭代法"
   ]
  },
  {
   "cell_type": "code",
   "execution_count": 38,
   "metadata": {},
   "outputs": [
    {
     "name": "stdout",
     "output_type": "stream",
     "text": [
      "未知数个数:\n",
      "3\n",
      "系数矩阵 A\n",
      "3 2 -1\n",
      "1 3 2\n",
      "2 -1 3\n",
      "指数矩阵 B\n",
      "6\n",
      "9\n",
      "3\n",
      "最大循环次数 m：\n",
      "10\n",
      "循环次数： 10\n",
      "Gauss迭代近似解： [[0.99775409]\n",
      " [1.99640303]\n",
      " [1.00029828]]\n"
     ]
    }
   ],
   "source": [
    "import numpy as np\n",
    "\n",
    "def Gauss(a, b, m):\n",
    "    n = len(a)\n",
    "    p = np.zeros((n, 1), dtype = np.double)\n",
    "    d = 10 ** (-9)\n",
    "    max2 = 0\n",
    "    x = np.zeros((n, 1), dtype = np.double)\n",
    "    for i in range(m):\n",
    "        for j in range(n):\n",
    "            if j == 0:\n",
    "                x[0] = (b[0] - a[0, 1:].dot(p[1:]))/a[0, 0]\n",
    "            elif j == n-1:\n",
    "                x[n-1] = (b[n-1] - a[n-1, :n-1].dot(x[:n-1]))/a[n-1, n-1]\n",
    "            else:\n",
    "                x[j] = (b[j] - a[j, :j].dot(x[:j])-a[j, j+1:].dot(p[j+1:])) / a[j, j]\n",
    "        err = np.max(np.abs(x - p))\n",
    "        relerr = err / (np.max(np.abs(x)) + d)\n",
    "        p = x.copy()\n",
    "        if err < d or relerr < d:\n",
    "            break\n",
    "    return max2, x\n",
    "\n",
    "print(\"未知数个数:\")\n",
    "n = int(input())\n",
    "print(\"系数矩阵 A\")\n",
    "a = np.zeros((n, n), dtype = np.double)\n",
    "for r in range(n):\n",
    "    a[r, :] = np.array(input().split(), dtype = np.double)\n",
    "print(\"指数矩阵 B\")\n",
    "b = np.zeros((n,1))\n",
    "for r in range(n):\n",
    "    b[r] = np.array(input(), dtype = np.double)\n",
    "print(\"最大循环次数 m：\")\n",
    "m = int(input())\n",
    "max2, x=Gauss(a, b, m)\n",
    "print(\"循环次数：\", m)\n",
    "print(\"Gauss迭代近似解：\",x)"
   ]
  },
  {
   "cell_type": "markdown",
   "metadata": {},
   "source": [
    "### Jacobi 迭代法"
   ]
  },
  {
   "cell_type": "code",
   "execution_count": 39,
   "metadata": {},
   "outputs": [
    {
     "name": "stdout",
     "output_type": "stream",
     "text": [
      "未知数个数:\n",
      "3\n",
      "系数矩阵 A\n",
      "3 2 -1\n",
      "1 3 2\n",
      "2 -1 3\n",
      "指数矩阵 B\n",
      "6\n",
      "9\n",
      "3\n",
      "最大循环次数 m：\n",
      "10\n",
      "循环次数： 10\n",
      "Gauss迭代近似解： [[1.00889092]\n",
      " [1.96855154]\n",
      " [1.00741757]]\n"
     ]
    }
   ],
   "source": [
    "import numpy as np\n",
    "\n",
    "def Gauss(a, b, m):\n",
    "    n = len(a)\n",
    "    p = np.zeros((n, 1), dtype = np.double)\n",
    "    d = 10 ** (-9)\n",
    "    max2 = 0\n",
    "    x = np.zeros((n, 1), dtype = np.double)\n",
    "    for i in range(m):\n",
    "        for j in range(n):\n",
    "                x[j] = (b[j] - a[j, :].dot(p) + a[j, j] * (p[j])) / a[j, j]\n",
    "        err = np.max(np.abs(x - p))\n",
    "        relerr = err / (np.max(np.abs(x)) + d)\n",
    "        p = x.copy()\n",
    "        if err < d or relerr < d:\n",
    "            break\n",
    "    return max2, x\n",
    "\n",
    "print(\"未知数个数:\")\n",
    "n = int(input())\n",
    "print(\"系数矩阵 A\")\n",
    "a = np.zeros((n, n), dtype = np.double)\n",
    "for r in range(n):\n",
    "    a[r, :] = np.array(input().split(), dtype = np.double)\n",
    "print(\"指数矩阵 B\")\n",
    "b = np.zeros((n,1))\n",
    "for r in range(n):\n",
    "    b[r] = np.array(input(), dtype = np.double)\n",
    "print(\"最大循环次数 m：\")\n",
    "m = int(input())\n",
    "max2, x=Gauss(a, b, m)\n",
    "print(\"循环次数：\", m)\n",
    "print(\"Gauss迭代近似解：\",x)"
   ]
  }
 ],
 "metadata": {
  "kernelspec": {
   "display_name": "Python 3",
   "language": "python",
   "name": "python3"
  },
  "language_info": {
   "codemirror_mode": {
    "name": "ipython",
    "version": 3
   },
   "file_extension": ".py",
   "mimetype": "text/x-python",
   "name": "python",
   "nbconvert_exporter": "python",
   "pygments_lexer": "ipython3",
   "version": "3.7.3"
  }
 },
 "nbformat": 4,
 "nbformat_minor": 2
}
