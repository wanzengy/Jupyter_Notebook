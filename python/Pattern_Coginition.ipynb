{
 "cells": [
  {
   "cell_type": "code",
   "execution_count": 49,
   "metadata": {},
   "outputs": [
    {
     "name": "stdout",
     "output_type": "stream",
     "text": [
      "第1次更新 [[1. 1. 1.]]\n",
      "第2次更新 [[1. 1. 1.]]\n",
      "第3次更新 [[0. 1. 0.]]\n",
      "第4次更新 [[-1.  0. -1.]]\n",
      "第5次更新 [[-1.  0.  0.]]\n",
      "第6次更新 [[-1.  1.  1.]]\n",
      "第7次更新 [[-2.  1.  0.]]\n",
      "第8次更新 [[-2.  1.  0.]]\n",
      "第9次更新 [[-2.  1.  1.]]\n",
      "第10次更新 [[-2.  1.  1.]]\n",
      "第11次更新 [[-2.  1.  1.]]\n",
      "第12次更新 [[-3.  0.  0.]]\n",
      "第13次更新 [[-3.  0.  1.]]\n",
      "第14次更新 [[-3.  0.  1.]]\n",
      "第15次更新 [[-3.  0.  1.]]\n",
      "第16次更新 [[-3.  0.  1.]]\n",
      "第17次更新 [[-3.  0.  1.]]\n",
      "[[-3.  0.  1.]]\n"
     ]
    }
   ],
   "source": [
    "import numpy as np\n",
    "import matplotlib.pyplot as plt\n",
    "\n",
    "def Perceptron(x, l):\n",
    "    w = np.ones((1, np.shape(x)[1]))\n",
    "    n = len(x)\n",
    "    right = 0\n",
    "    index = 0\n",
    "    i = 0\n",
    "    while right < n and i < 100:\n",
    "        if w.dot(x[index, :]) <= 0:\n",
    "            w = w + l * x[index, :]\n",
    "            right = 0\n",
    "        else : \n",
    "            right += 1\n",
    "        i += 1\n",
    "        print(\"第%d次更新\"%i, w)\n",
    "#         print(\"x:\",x,\"\\n w:\",w)\n",
    "        index = (i) % n\n",
    "    return w\n",
    "\n",
    "x1 = np.array([[0, 0], [0, 1]])\n",
    "x2 = np.array([[1, 0], [1, 1]])\n",
    "\n",
    "# 扩充为增广矩阵\n",
    "x1 = np.insert(x1, np.shape(x1)[1], 1, axis = 1)\n",
    "x2 = - np.insert(x2, np.shape(x2)[1], 1, axis = 1) #规泛化\n",
    "\n",
    "# 样本合并\n",
    "x = np.vstack((x1 ,x2))\n",
    "\n",
    "# x为规范化训练样本，l为增量\n",
    "l = 1 \n",
    "w = Perceptron(x, l)\n",
    "print(w)\n"
   ]
  },
  {
   "cell_type": "code",
   "execution_count": 52,
   "metadata": {},
   "outputs": [
    {
     "data": {
      "image/png": "[encoded data removed]",
      "text/plain": [
       "<Figure size 432x288 with 1 Axes>"
      ]
     },
     "metadata": {
      "needs_background": "light"
     },
     "output_type": "display_data"
    }
   ],
   "source": [
    "plt.xlim(-5, 5)\n",
    "plt.ylim(-5, 5)\n",
    "\n",
    "for r in range(len(x1)):\n",
    "    plt.scatter(x1[r, 0], x1[r, 1], marker = 'x', color = 'red')\n",
    "for r in range(len(x2)):\n",
    "    plt.scatter(-x2[r,0], -x2[r, 1], marker = 'o', color = 'blue')\n",
    "    \n",
    "\n",
    "if w[0,1] == 0 :\n",
    "    if w[0, 2] ==  0:\n",
    "        plt.axvline(0, ls ='-')\n",
    "    else:\n",
    "        plt.axvline(-w[0, 2]/w[0, 0], ls ='-')\n",
    "else:\n",
    "    x = np.linspace(-5 - 1, 5 + 1, 1000)\n",
    "    y = (w[0, 0] * x +w[0, 2])/(-w[0, 1])\n",
    "    plt.plot(x, y)\n",
    "    \n",
    "plt.show()"
   ]
  }
 ],
 "metadata": {
  "kernelspec": {
   "display_name": "Python 3",
   "language": "python",
   "name": "python3"
  },
  "language_info": {
   "codemirror_mode": {
    "name": "ipython",
    "version": 3
   },
   "file_extension": ".py",
   "mimetype": "text/x-python",
   "name": "python",
   "nbconvert_exporter": "python",
   "pygments_lexer": "ipython3",
   "version": "3.7.3"
  }
 },
 "nbformat": 4,
 "nbformat_minor": 2
}
