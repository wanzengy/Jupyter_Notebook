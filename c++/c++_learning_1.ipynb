{
 "cells": [
  {
   "cell_type": "code",
   "execution_count": 1,
   "metadata": {},
   "outputs": [],
   "source": [
    "#include<limits>\n",
    "#include<typeinfo>\n",
    "#include<math.h>\n",
    "#include</mnt/f/work_project/Linux_Work/std_lib_facilities.h>\n",
    "\n",
    "\n",
    "using namespace std;"
   ]
  },
  {
   "cell_type": "markdown",
   "metadata": {},
   "source": [
    "### 标准输入输出"
   ]
  },
  {
   "cell_type": "markdown",
   "metadata": {},
   "source": [
    "```\n",
    "cout<<\"please enter your whole name and age:\\n\";\n",
    "string fn,ln;\n",
    "int age;\n",
    "cin>>fn>>ln>>age;\n",
    "string name = fn + ' ' + ln;\n",
    "cout<<\"hello,\"<<name<<\"age\"<<age<<'\\n';\n",
    "```"
   ]
  },
  {
   "cell_type": "markdown",
   "metadata": {},
   "source": [
    "### 简单算数运算"
   ]
  },
  {
   "cell_type": "markdown",
   "metadata": {},
   "source": [
    "```\n",
    "cout<<\"enter a number:\";\n",
    "double n;\n",
    "cin>>n;\n",
    "cout<<\"n==\"<<n<<\"\\n\"\n",
    "    <<\"n+1 ==\"<<n+1<<\"\\n\"\n",
    "    <<\"n squared ==\"<<pow(n,2)<<\"\\n\"\n",
    "    <<\"half of n ==\"<<n/2<<\"\\n\"\n",
    "    <<\"square root of n ==\"<<sqrt(n)\n",
    "    <<endl;\n",
    "```    "
   ]
  },
  {
   "cell_type": "markdown",
   "metadata": {},
   "source": [
    "枚举类型:创建枚举，需要使用关键字 enum。\n",
    "枚举类型的一般形式为：\n",
    "```c++\n",
    "enum 枚举名{ \n",
    "     标识符[=整型常数], \n",
    "     标识符[=整型常数], \n",
    "... \n",
    "    标识符[=整型常数]\n",
    "} 枚举变量;\n",
    "```\n",
    "\n",
    "默认情况下，第一个名称的值为 0，第二个名称的值为 1，第三个名称的值为 2，以此类推。但是，您也可以给名称赋予一个特殊的值，只需要添加一个初始值即可。"
   ]
  },
  {
   "cell_type": "markdown",
   "metadata": {},
   "source": [
    "```\n",
    "enum fruit{pork, beef, cabbage = 66, apple} f;\n",
    "f = pork;\n",
    "fruit t = apple;\n",
    "cout<<f<<endl;\n",
    "cout<<t<<endl;\n",
    "```\n"
   ]
  },
  {
   "cell_type": "markdown",
   "metadata": {},
   "source": [
    "定义常量：\n",
    "- 使用 #define 预处理器\n",
    "- 使用 const 关键字"
   ]
  },
  {
   "cell_type": "markdown",
   "metadata": {},
   "source": [
    "```\n",
    "#define length 10\n",
    "#define newline '\\n'\n",
    "\n",
    "const int width = 5;\n",
    "\n",
    "cout << width*length << newline; \n",
    "cout << typeid(newline).name() <<endl;\n",
    "```"
   ]
  },
  {
   "cell_type": "markdown",
   "metadata": {},
   "source": [
    "### 迭代数据结构-vector\n",
    "vector的一些属性：\n",
    "- 向量大小：vec.size()\n",
    "- 向量起始\\终止元素地址：vec.begin()\\vec.end()\n",
    "\n",
    "vector的一些操作：\n",
    "- 入栈操作：vec.push_back(item)\n",
    "- 排列操作：sort(vec.begin(),vec.end())\n",
    "- 第 i 个位置前插入元素：vec.insert(vec.begin()+i,item)\n",
    "- 删除第 i 个位置后的元素：vec.erase(vec.begin()+i)\n",
    "- 删除 [i,j-1] 间元素：vec.erase(vec.begin()+i,vec.begin()+j)"
   ]
  },
  {
   "cell_type": "markdown",
   "metadata": {},
   "source": [
    "```\n",
    "vector<double>temps;\n",
    "double temp;\n",
    "double sum=0;\n",
    "int i=0,j=0;\n",
    "\n",
    "while(cin>>temp)\n",
    "    temps.push_back(temp);\n",
    "\n",
    "for(i=0;i<temps.size();i++){\n",
    "    sum+=temps[i];\n",
    "    cout<<temps[i]<<'\\t';\n",
    "}\n",
    "\n",
    "cout<<\"\\nMean temperature:\"<<sum/temps.size()<<endl;\n",
    "sort(temps.begin(),temps.end());\n",
    "cout<<\"Median temperature:\"<<temps[temps.size()/2]<<endl;\n",
    "\n",
    "for(i=0;i<temps.size()-1;i++){\n",
    "    for(j=i+1;j<temps.size()-1;j++)\n",
    "        if(temps[i] == temps[j]){\n",
    "            temps.erase(temps.begin()+j);\n",
    "            j--;\n",
    "    }\n",
    "}\n",
    "\n",
    "for(i=0;i<temps.size();i++)\n",
    "    cout<<temps[i]<<'\\t';\n",
    "```"
   ]
  },
  {
   "cell_type": "markdown",
   "metadata": {},
   "source": [
    "### 异常处理"
   ]
  },
  {
   "cell_type": "markdown",
   "metadata": {},
   "source": [
    "```\n",
    "class Bad_area{\n",
    "};\n",
    "\n",
    "try{\n",
    "    int area;\n",
    "    int legnth = 10;\n",
    "    int width = -19;\n",
    "    if(legnth<=0||width<=0)\n",
    "        throw Bad_area();\n",
    "    cout<<legnth*width<<endl;\n",
    "}\n",
    "catch(Bad_area){\n",
    "     cerr<<\"oops!Bad area calculation\\n\";\n",
    "}\n",
    "```"
   ]
  },
  {
   "cell_type": "markdown",
   "metadata": {},
   "source": [
    "### error()函数,打印错误信息"
   ]
  },
  {
   "cell_type": "markdown",
   "metadata": {},
   "source": [
    "```\n",
    "cout<<\"enter integer\\n\";\n",
    "int x;\n",
    "cin>>x;\n",
    "if(!cin) //检查cin读到了一个整数\n",
    "    error(\"didn't get a value\");\n",
    "if(x<1 || 10<x)\n",
    "    error(\"out of range!\");\n",
    "```"
   ]
  },
  {
   "cell_type": "markdown",
   "metadata": {},
   "source": [
    "### 类\n",
    "```\n",
    "class Token{\n",
    "    public:\n",
    "        //user interface...\n",
    "        //data itmes&methods...\n",
    "    private:\n",
    "        //implementation details...\n",
    "        //data items & methods...\n",
    "        //...\n",
    "};\n",
    "```\n",
    "### 类的实例化\n",
    "- 调用构造函数生成 -> 对象"
   ]
  },
  {
   "cell_type": "markdown",
   "metadata": {},
   "source": [
    "```\n",
    "class Token{\n",
    "    public:\n",
    "        char kind;\n",
    "        double value;\n",
    "        Token(char ch):kind(ch),value(0){};\n",
    "        Token(char ch,double val):kind(ch),value(val){};\n",
    "};\n",
    "\n",
    "Token t1('8',2.3);\n",
    "Token t2('+');\n",
    "t1.kind = 'n';\n",
    "cout<<\"t1:\"<<t1.kind<<'\\t'<<t1.value<<'\\n';\n",
    "cout<<\"t2:\"<<t2.kind<<'\\t'<<t2.value<<'\\n';\n",
    "```"
   ]
  }
 ],
 "metadata": {
  "kernelspec": {
   "display_name": "C++11",
   "language": "C++11",
   "name": "xcpp11"
  },
  "language_info": {
   "codemirror_mode": "text/x-c++src",
   "file_extension": ".cpp",
   "mimetype": "text/x-c++src",
   "name": "c++",
   "version": "-std=c++11"
  }
 },
 "nbformat": 4,
 "nbformat_minor": 2
}
