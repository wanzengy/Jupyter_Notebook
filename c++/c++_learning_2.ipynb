{
 "cells": [
  {
   "cell_type": "markdown",
   "metadata": {},
   "source": [
    "### C/C++的include指令"
   ]
  },
  {
   "cell_type": "markdown",
   "metadata": {},
   "source": [
    "##### 1. C\n",
    "    (1).<*.h>优先搜索引用编译器类库路径下的头文件\n",
    "    (2).\".h\"优先从当前项目的当前目录中，按相对路径查找"
   ]
  },
  {
   "cell_type": "markdown",
   "metadata": {},
   "source": [
    "### 2.c++\n",
    "    (1).原有C中声明在全局空间下的所有标识符，统一声明在 namespace std 下\n",
    "    (2).带 .h 的头文件是旧标准的，而新标准头文件不带 .h 。\n",
    "    (3). c++ 标准化化过程中，原有 C 语言文件头标准后，文件名前多带了个 c 字母，例如：\n",
    "``` c++\n",
    "    #include<stdio.h> --> #include<cstdio>\n",
    "```"
   ]
  }
 ],
 "metadata": {
  "kernelspec": {
   "display_name": "C++11",
   "language": "C++11",
   "name": "xcpp11"
  },
  "language_info": {
   "codemirror_mode": "text/x-c++src",
   "file_extension": ".cpp",
   "mimetype": "text/x-c++src",
   "name": "c++",
   "version": "-std=c++11"
  }
 },
 "nbformat": 4,
 "nbformat_minor": 2
}
